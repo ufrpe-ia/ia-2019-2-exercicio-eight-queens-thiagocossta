{
  "nbformat": 4,
  "nbformat_minor": 0,
  "metadata": {
    "kernelspec": {
      "display_name": "Python 3",
      "language": "python",
      "name": "python3"
    },
    "language_info": {
      "codemirror_mode": {
        "name": "ipython",
        "version": 3
      },
      "file_extension": ".py",
      "mimetype": "text/x-python",
      "name": "python",
      "nbconvert_exporter": "python",
      "pygments_lexer": "ipython3",
      "version": "3.7.1"
    },
    "colab": {
      "name": "Copy of ia-exercicio-eight-queens.ipynb",
      "version": "0.3.2",
      "provenance": [],
      "include_colab_link": true
    }
  },
  "cells": [
    {
      "cell_type": "markdown",
      "metadata": {
        "id": "view-in-github",
        "colab_type": "text"
      },
      "source": [
        "<a href=\"https://colab.research.google.com/github/ufrpe-ia/ia-2019-2-exercicio-eight-queens-thiagocossta/blob/master/Copy_of_ia_exercicio_eight_queens.ipynb\" target=\"_parent\"><img src=\"https://colab.research.google.com/assets/colab-badge.svg\" alt=\"Open In Colab\"/></a>"
      ]
    },
    {
      "cell_type": "markdown",
      "metadata": {
        "id": "P6Za8dV9aIeu",
        "colab_type": "text"
      },
      "source": [
        "# Exercício: Solucionando o problema das 8 rainhas\n",
        "## Solução 1: força bruta!\n",
        "\n",
        "Varrendo cada linha do tabuleiro e colocando uma rainha por coluna, enquanto checamos a cada passo que duas rainhas não estão na linha de ataque da outra. \n",
        "\n",
        "Dessa forma, a solução avaliará todas as combinações possíveis das oito rainhas no tabuleiro de xadrez e rejeitará os estados inválidos. Quantas combinações de 8 rainhas em um tabuleiro de 64 células são possíveis?\n",
        "\n",
        "A fórmula de combinações é dada por:\n",
        "\n",
        "$C(n,k) = \\frac{n!}{k!\\cdot(n-k)!}$\n",
        "\n",
        "Considerando um tabuleiro de 8 x 8, teríamos:\n",
        "\n",
        "$C(64,8) = \\frac{64!}{8!\\cdot(64-8)!} = 4.426.165.368$ soluções possíveis a serem avaliadas. \n",
        "\n",
        "Considerando que este é um problema que pode ser usado para representar outros \n",
        "[problemas](https://pdfs.semanticscholar.org/79d2/fa13d4a5cfc02ff6936b6083bb620e4e0ce1.pdf) (reais, e.g., VLSI design) \n",
        "que eventualmente pode ter dimensões muito superiores às de um tabuleiro de xadrez, vale a pena analisar como se dá o \n",
        "crescimento deste problema em termos da entrada.\n",
        "\n",
        "### Questão 1\n",
        "Gere um gráfico (utilize o matplotlib) que demonstre a taxa de crescimento da quantidade de soluções possíveis em termos do tamanho do tabuleiro, conforme apresentado acima."
      ]
    },
    {
      "cell_type": "code",
      "metadata": {
        "id": "hlTSfJBQaIez",
        "colab_type": "code",
        "outputId": "b5c6391c-e718-4822-e711-5df962de6448",
        "colab": {
          "base_uri": "https://localhost:8080/",
          "height": 295
        }
      },
      "source": [
        "import numpy as np\n",
        "import matplotlib.pyplot as plt\n",
        "# quantidade de soluções relativas ao tamanho do tabuleiro\n",
        "def solutionBySize(size):\n",
        "    boardTitle = size * size\n",
        "    return np.math.factorial(boardTitle)/(np.math.factorial(8)*np.math.factorial((boardTitle-8)))\n",
        "\n",
        "MAX_TABLE_SIZE = 20\n",
        "\n",
        "# criando de pontos no gráfico\n",
        "x = range(8, MAX_TABLE_SIZE)\n",
        "func = lambda x: solutionBySize(x)\n",
        "vfunc = np.vectorize(func)\n",
        "y = vfunc(x)   \n",
        "\n",
        "# criação e plot do gráfico\n",
        "plt.plot(x, y)\n",
        "plt.xlabel(\"Tables\")\n",
        "plt.ylabel(\"Solutions\")\n",
        "plt.title(\"Table x solutions\")\n",
        "plt.grid(True)\n",
        "plt.legend(['y = X!/8!*(X!-8)'])\n",
        "plt.show()"
      ],
      "execution_count": 0,
      "outputs": [
        {
          "output_type": "display_data",
          "data": {
            "image/png": "[encoded data removed]",
            "text/plain": [
              "<Figure size 432x288 with 1 Axes>"
            ]
          },
          "metadata": {
            "tags": []
          }
        }
      ]
    },
    {
      "cell_type": "markdown",
      "metadata": {
        "id": "7jrJxyaLaIe6",
        "colab_type": "text"
      },
      "source": [
        "## Modelando o problema em Python"
      ]
    },
    {
      "cell_type": "code",
      "metadata": {
        "id": "xlMYk_HbaIe8",
        "colab_type": "code",
        "outputId": "223988f2-b5c4-4216-a249-94cda1e61294",
        "colab": {}
      },
      "source": [
        "\"\"\"The n queens puzzle\"\"\"\n",
        "class NQueens:\n",
        "    def __init__(self, size):\n",
        "        # Store the puzzle (problem) size and the number of valid solutions\n",
        "        self.size = size\n",
        "        self.solutions = 0\n",
        "\n",
        "    def solve(self):\n",
        "        return []\n",
        "\n",
        "    def show(self, solution=None):\n",
        "        \"\"\"Show the full NxN board\"\"\"\n",
        "        for row in range(self.size):\n",
        "            line = \"\"\n",
        "            for column in range(self.size):\n",
        "                if solution and solution[row] == column:\n",
        "                    line += \"Q \"\n",
        "                else:\n",
        "                    line += \". \"\n",
        "            print(line)\n",
        "        print(\"\\n\")\n",
        "       \n",
        "# Criando uma instância do problema\n",
        "board = NQueens(8)\n",
        "board.show()"
      ],
      "execution_count": 0,
      "outputs": [
        {
          "output_type": "stream",
          "text": [
            ". . . . . . . . \n",
            ". . . . . . . . \n",
            ". . . . . . . . \n",
            ". . . . . . . . \n",
            ". . . . . . . . \n",
            ". . . . . . . . \n",
            ". . . . . . . . \n",
            ". . . . . . . . \n",
            "\n",
            "\n"
          ],
          "name": "stdout"
        }
      ]
    },
    {
      "cell_type": "markdown",
      "metadata": {
        "id": "Db62s9fvaIfD",
        "colab_type": "text"
      },
      "source": [
        "### Questão 2\n",
        "Implemente a seguinte formulação:\n",
        "\n",
        "- estados: qualquer disposição com n (n ≤ 8) rainhas\n",
        "- operadores: adicionar uma rainha a qualquer quadrado\n",
        "- Verificar se a solução é válida ao final da 'alocação'\n",
        "- 64x63x...x57 = 3x1014 possibilidades"
      ]
    },
    {
      "cell_type": "code",
      "metadata": {
        "id": "iozR9foPaIfF",
        "colab_type": "code",
        "colab": {}
      },
      "source": [
        ""
      ],
      "execution_count": 0,
      "outputs": []
    },
    {
      "cell_type": "markdown",
      "metadata": {
        "id": "lN5X8HuxaIfK",
        "colab_type": "text"
      },
      "source": [
        "### Questão 3\n",
        "Implemente a seguinte formulação:\n",
        "\n",
        "- estados: disposição com n (n ≤ 8) rainhas sem ataque mútuo (teste gradual)\n",
        "- operadores: adicionar uma rainha na coluna vazia mais à esquerda em que não possa ser atacada\n",
        "- 2057 possibilidades (podendo ficar sem opções de escolha dependendo das operações anteriores)"
      ]
    },
    {
      "cell_type": "code",
      "metadata": {
        "id": "0fLfvYPcaIfL",
        "colab_type": "code",
        "colab": {}
      },
      "source": [
        ""
      ],
      "execution_count": 0,
      "outputs": []
    },
    {
      "cell_type": "markdown",
      "metadata": {
        "id": "0qvGryC3aIfQ",
        "colab_type": "text"
      },
      "source": [
        "### Questão 4\n",
        "Implemente a seguinte formulação:\n",
        "- estados: disposição com 8 rainhas, uma em cada coluna\n",
        "- operadores: mover uma rainha atacada para outra casa na mesma coluna"
      ]
    },
    {
      "cell_type": "code",
      "metadata": {
        "id": "Sg8rmh71aIfS",
        "colab_type": "code",
        "colab": {}
      },
      "source": [
        ""
      ],
      "execution_count": 0,
      "outputs": []
    }
  ]
}